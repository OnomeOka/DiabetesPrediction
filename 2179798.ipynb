{
 "cells": [
  {
   "cell_type": "markdown",
   "id": "db334953",
   "metadata": {},
   "source": [
    "#### Import Libraries"
   ]
  },
  {
   "cell_type": "code",
   "execution_count": 6,
   "id": "0ab8aa8d",
   "metadata": {},
   "outputs": [],
   "source": [
    "import numpy as np\n",
    "import pandas as pd\n",
    "import matplotlib.pyplot as plt\n",
    "import seaborn as sns\n",
    "%matplotlib inline\n",
    "import sklearn as sk"
   ]
  },
  {
   "cell_type": "markdown",
   "id": "74fc822f",
   "metadata": {},
   "source": [
    "#### Read document"
   ]
  },
  {
   "cell_type": "code",
   "execution_count": 7,
   "id": "bc88440f",
   "metadata": {},
   "outputs": [],
   "source": [
    "df= pd.read_csv('diabetes-2.csv')"
   ]
  },
  {
   "cell_type": "code",
   "execution_count": 8,
   "id": "341ce435",
   "metadata": {},
   "outputs": [
    {
     "data": {
      "text/html": [
       "<div>\n",
       "<style scoped>\n",
       "    .dataframe tbody tr th:only-of-type {\n",
       "        vertical-align: middle;\n",
       "    }\n",
       "\n",
       "    .dataframe tbody tr th {\n",
       "        vertical-align: top;\n",
       "    }\n",
       "\n",
       "    .dataframe thead th {\n",
       "        text-align: right;\n",
       "    }\n",
       "</style>\n",
       "<table border=\"1\" class=\"dataframe\">\n",
       "  <thead>\n",
       "    <tr style=\"text-align: right;\">\n",
       "      <th></th>\n",
       "      <th>Pregnancies</th>\n",
       "      <th>Glucose</th>\n",
       "      <th>BloodPressure</th>\n",
       "      <th>SkinThickness</th>\n",
       "      <th>Insulin</th>\n",
       "      <th>BMI</th>\n",
       "      <th>DiabetesPedigreeFunction</th>\n",
       "      <th>Age</th>\n",
       "      <th>Outcome</th>\n",
       "    </tr>\n",
       "  </thead>\n",
       "  <tbody>\n",
       "    <tr>\n",
       "      <th>0</th>\n",
       "      <td>6</td>\n",
       "      <td>148</td>\n",
       "      <td>72</td>\n",
       "      <td>35</td>\n",
       "      <td>0</td>\n",
       "      <td>33.6</td>\n",
       "      <td>0.627</td>\n",
       "      <td>50</td>\n",
       "      <td>1</td>\n",
       "    </tr>\n",
       "    <tr>\n",
       "      <th>1</th>\n",
       "      <td>1</td>\n",
       "      <td>85</td>\n",
       "      <td>66</td>\n",
       "      <td>29</td>\n",
       "      <td>0</td>\n",
       "      <td>26.6</td>\n",
       "      <td>0.351</td>\n",
       "      <td>31</td>\n",
       "      <td>0</td>\n",
       "    </tr>\n",
       "    <tr>\n",
       "      <th>2</th>\n",
       "      <td>8</td>\n",
       "      <td>183</td>\n",
       "      <td>64</td>\n",
       "      <td>0</td>\n",
       "      <td>0</td>\n",
       "      <td>23.3</td>\n",
       "      <td>0.672</td>\n",
       "      <td>32</td>\n",
       "      <td>1</td>\n",
       "    </tr>\n",
       "    <tr>\n",
       "      <th>3</th>\n",
       "      <td>1</td>\n",
       "      <td>89</td>\n",
       "      <td>66</td>\n",
       "      <td>23</td>\n",
       "      <td>94</td>\n",
       "      <td>28.1</td>\n",
       "      <td>0.167</td>\n",
       "      <td>21</td>\n",
       "      <td>0</td>\n",
       "    </tr>\n",
       "    <tr>\n",
       "      <th>4</th>\n",
       "      <td>0</td>\n",
       "      <td>137</td>\n",
       "      <td>40</td>\n",
       "      <td>35</td>\n",
       "      <td>168</td>\n",
       "      <td>43.1</td>\n",
       "      <td>2.288</td>\n",
       "      <td>33</td>\n",
       "      <td>1</td>\n",
       "    </tr>\n",
       "  </tbody>\n",
       "</table>\n",
       "</div>"
      ],
      "text/plain": [
       "   Pregnancies  Glucose  BloodPressure  SkinThickness  Insulin   BMI  \\\n",
       "0            6      148             72             35        0  33.6   \n",
       "1            1       85             66             29        0  26.6   \n",
       "2            8      183             64              0        0  23.3   \n",
       "3            1       89             66             23       94  28.1   \n",
       "4            0      137             40             35      168  43.1   \n",
       "\n",
       "   DiabetesPedigreeFunction  Age  Outcome  \n",
       "0                     0.627   50        1  \n",
       "1                     0.351   31        0  \n",
       "2                     0.672   32        1  \n",
       "3                     0.167   21        0  \n",
       "4                     2.288   33        1  "
      ]
     },
     "execution_count": 8,
     "metadata": {},
     "output_type": "execute_result"
    }
   ],
   "source": [
    "df.head()"
   ]
  },
  {
   "cell_type": "markdown",
   "id": "0cfc12c1",
   "metadata": {},
   "source": [
    "#### Data Exploration & Cleaning"
   ]
  },
  {
   "cell_type": "code",
   "execution_count": 12,
   "id": "47466a34",
   "metadata": {},
   "outputs": [
    {
     "data": {
      "text/plain": [
       "(768, 9)"
      ]
     },
     "execution_count": 12,
     "metadata": {},
     "output_type": "execute_result"
    }
   ],
   "source": [
    "df.shape"
   ]
  },
  {
   "cell_type": "code",
   "execution_count": 13,
   "id": "598e0442",
   "metadata": {
    "scrolled": true
   },
   "outputs": [
    {
     "name": "stdout",
     "output_type": "stream",
     "text": [
      "<class 'pandas.core.frame.DataFrame'>\n",
      "RangeIndex: 768 entries, 0 to 767\n",
      "Data columns (total 9 columns):\n",
      " #   Column                    Non-Null Count  Dtype  \n",
      "---  ------                    --------------  -----  \n",
      " 0   Pregnancies               768 non-null    int64  \n",
      " 1   Glucose                   768 non-null    int64  \n",
      " 2   BloodPressure             768 non-null    int64  \n",
      " 3   SkinThickness             768 non-null    int64  \n",
      " 4   Insulin                   768 non-null    int64  \n",
      " 5   BMI                       768 non-null    float64\n",
      " 6   DiabetesPedigreeFunction  768 non-null    float64\n",
      " 7   Age                       768 non-null    int64  \n",
      " 8   Outcome                   768 non-null    int64  \n",
      "dtypes: float64(2), int64(7)\n",
      "memory usage: 54.1 KB\n"
     ]
    }
   ],
   "source": [
    "df.info()"
   ]
  },
  {
   "cell_type": "code",
   "execution_count": 14,
   "id": "a199a038",
   "metadata": {},
   "outputs": [
    {
     "data": {
      "text/html": [
       "<div>\n",
       "<style scoped>\n",
       "    .dataframe tbody tr th:only-of-type {\n",
       "        vertical-align: middle;\n",
       "    }\n",
       "\n",
       "    .dataframe tbody tr th {\n",
       "        vertical-align: top;\n",
       "    }\n",
       "\n",
       "    .dataframe thead th {\n",
       "        text-align: right;\n",
       "    }\n",
       "</style>\n",
       "<table border=\"1\" class=\"dataframe\">\n",
       "  <thead>\n",
       "    <tr style=\"text-align: right;\">\n",
       "      <th></th>\n",
       "      <th>Pregnancies</th>\n",
       "      <th>Glucose</th>\n",
       "      <th>BloodPressure</th>\n",
       "      <th>SkinThickness</th>\n",
       "      <th>Insulin</th>\n",
       "      <th>BMI</th>\n",
       "      <th>DiabetesPedigreeFunction</th>\n",
       "      <th>Age</th>\n",
       "      <th>Outcome</th>\n",
       "    </tr>\n",
       "  </thead>\n",
       "  <tbody>\n",
       "    <tr>\n",
       "      <th>count</th>\n",
       "      <td>768.000000</td>\n",
       "      <td>768.000000</td>\n",
       "      <td>768.000000</td>\n",
       "      <td>768.000000</td>\n",
       "      <td>768.000000</td>\n",
       "      <td>768.000000</td>\n",
       "      <td>768.000000</td>\n",
       "      <td>768.000000</td>\n",
       "      <td>768.000000</td>\n",
       "    </tr>\n",
       "    <tr>\n",
       "      <th>mean</th>\n",
       "      <td>3.845052</td>\n",
       "      <td>120.894531</td>\n",
       "      <td>69.105469</td>\n",
       "      <td>20.536458</td>\n",
       "      <td>79.799479</td>\n",
       "      <td>31.992578</td>\n",
       "      <td>0.471876</td>\n",
       "      <td>33.240885</td>\n",
       "      <td>0.348958</td>\n",
       "    </tr>\n",
       "    <tr>\n",
       "      <th>std</th>\n",
       "      <td>3.369578</td>\n",
       "      <td>31.972618</td>\n",
       "      <td>19.355807</td>\n",
       "      <td>15.952218</td>\n",
       "      <td>115.244002</td>\n",
       "      <td>7.884160</td>\n",
       "      <td>0.331329</td>\n",
       "      <td>11.760232</td>\n",
       "      <td>0.476951</td>\n",
       "    </tr>\n",
       "    <tr>\n",
       "      <th>min</th>\n",
       "      <td>0.000000</td>\n",
       "      <td>0.000000</td>\n",
       "      <td>0.000000</td>\n",
       "      <td>0.000000</td>\n",
       "      <td>0.000000</td>\n",
       "      <td>0.000000</td>\n",
       "      <td>0.078000</td>\n",
       "      <td>21.000000</td>\n",
       "      <td>0.000000</td>\n",
       "    </tr>\n",
       "    <tr>\n",
       "      <th>25%</th>\n",
       "      <td>1.000000</td>\n",
       "      <td>99.000000</td>\n",
       "      <td>62.000000</td>\n",
       "      <td>0.000000</td>\n",
       "      <td>0.000000</td>\n",
       "      <td>27.300000</td>\n",
       "      <td>0.243750</td>\n",
       "      <td>24.000000</td>\n",
       "      <td>0.000000</td>\n",
       "    </tr>\n",
       "    <tr>\n",
       "      <th>50%</th>\n",
       "      <td>3.000000</td>\n",
       "      <td>117.000000</td>\n",
       "      <td>72.000000</td>\n",
       "      <td>23.000000</td>\n",
       "      <td>30.500000</td>\n",
       "      <td>32.000000</td>\n",
       "      <td>0.372500</td>\n",
       "      <td>29.000000</td>\n",
       "      <td>0.000000</td>\n",
       "    </tr>\n",
       "    <tr>\n",
       "      <th>75%</th>\n",
       "      <td>6.000000</td>\n",
       "      <td>140.250000</td>\n",
       "      <td>80.000000</td>\n",
       "      <td>32.000000</td>\n",
       "      <td>127.250000</td>\n",
       "      <td>36.600000</td>\n",
       "      <td>0.626250</td>\n",
       "      <td>41.000000</td>\n",
       "      <td>1.000000</td>\n",
       "    </tr>\n",
       "    <tr>\n",
       "      <th>max</th>\n",
       "      <td>17.000000</td>\n",
       "      <td>199.000000</td>\n",
       "      <td>122.000000</td>\n",
       "      <td>99.000000</td>\n",
       "      <td>846.000000</td>\n",
       "      <td>67.100000</td>\n",
       "      <td>2.420000</td>\n",
       "      <td>81.000000</td>\n",
       "      <td>1.000000</td>\n",
       "    </tr>\n",
       "  </tbody>\n",
       "</table>\n",
       "</div>"
      ],
      "text/plain": [
       "       Pregnancies     Glucose  BloodPressure  SkinThickness     Insulin  \\\n",
       "count   768.000000  768.000000     768.000000     768.000000  768.000000   \n",
       "mean      3.845052  120.894531      69.105469      20.536458   79.799479   \n",
       "std       3.369578   31.972618      19.355807      15.952218  115.244002   \n",
       "min       0.000000    0.000000       0.000000       0.000000    0.000000   \n",
       "25%       1.000000   99.000000      62.000000       0.000000    0.000000   \n",
       "50%       3.000000  117.000000      72.000000      23.000000   30.500000   \n",
       "75%       6.000000  140.250000      80.000000      32.000000  127.250000   \n",
       "max      17.000000  199.000000     122.000000      99.000000  846.000000   \n",
       "\n",
       "              BMI  DiabetesPedigreeFunction         Age     Outcome  \n",
       "count  768.000000                768.000000  768.000000  768.000000  \n",
       "mean    31.992578                  0.471876   33.240885    0.348958  \n",
       "std      7.884160                  0.331329   11.760232    0.476951  \n",
       "min      0.000000                  0.078000   21.000000    0.000000  \n",
       "25%     27.300000                  0.243750   24.000000    0.000000  \n",
       "50%     32.000000                  0.372500   29.000000    0.000000  \n",
       "75%     36.600000                  0.626250   41.000000    1.000000  \n",
       "max     67.100000                  2.420000   81.000000    1.000000  "
      ]
     },
     "execution_count": 14,
     "metadata": {},
     "output_type": "execute_result"
    }
   ],
   "source": [
    "df.describe()"
   ]
  },
  {
   "cell_type": "code",
   "execution_count": 15,
   "id": "0964acd7",
   "metadata": {
    "scrolled": true
   },
   "outputs": [
    {
     "data": {
      "text/plain": [
       "Pregnancies                 0\n",
       "Glucose                     0\n",
       "BloodPressure               0\n",
       "SkinThickness               0\n",
       "Insulin                     0\n",
       "BMI                         0\n",
       "DiabetesPedigreeFunction    0\n",
       "Age                         0\n",
       "Outcome                     0\n",
       "dtype: int64"
      ]
     },
     "execution_count": 15,
     "metadata": {},
     "output_type": "execute_result"
    }
   ],
   "source": [
    "df.isnull().sum()"
   ]
  },
  {
   "cell_type": "markdown",
   "id": "0a6ba84d",
   "metadata": {},
   "source": [
    "#### No missing values"
   ]
  },
  {
   "cell_type": "code",
   "execution_count": 16,
   "id": "b7bcfe32",
   "metadata": {},
   "outputs": [
    {
     "data": {
      "text/plain": [
       "0"
      ]
     },
     "execution_count": 16,
     "metadata": {},
     "output_type": "execute_result"
    }
   ],
   "source": [
    "df.duplicated().sum() #check for duplicates"
   ]
  },
  {
   "cell_type": "code",
   "execution_count": 17,
   "id": "62cf6245",
   "metadata": {},
   "outputs": [],
   "source": [
    "#since its not possible for glucose to be zero we are replacing the zero values with mean of the glucose columns\n",
    "df.Glucose=df.Glucose.replace(0,int(df.Glucose.mean()))"
   ]
  },
  {
   "cell_type": "code",
   "execution_count": 18,
   "id": "8faa6b16",
   "metadata": {},
   "outputs": [],
   "source": [
    "# since bloodpressure can not be zero we are filling the zero values with mean(Blood Pressure columns)\n",
    "df.BloodPressure.replace(0,df.BloodPressure.mean(),inplace=True)"
   ]
  },
  {
   "cell_type": "code",
   "execution_count": 19,
   "id": "e16ae587",
   "metadata": {},
   "outputs": [],
   "source": [
    "# since skinthickness cant be zero we replace the zero values with mean(skin thickness column)\n",
    "df.SkinThickness.replace(0,df.SkinThickness.mean(),inplace=True)"
   ]
  },
  {
   "cell_type": "code",
   "execution_count": 20,
   "id": "85b81dd3",
   "metadata": {},
   "outputs": [],
   "source": [
    "df.Insulin.replace(0,df.Insulin.mean(),inplace=True)\n"
   ]
  },
  {
   "cell_type": "code",
   "execution_count": 21,
   "id": "f3c2db9b",
   "metadata": {},
   "outputs": [],
   "source": [
    "df.BMI.replace(0,df.BMI.mean(),inplace=True)\n"
   ]
  },
  {
   "cell_type": "code",
   "execution_count": 22,
   "id": "c1c4b4b3",
   "metadata": {},
   "outputs": [
    {
     "data": {
      "text/html": [
       "<div>\n",
       "<style scoped>\n",
       "    .dataframe tbody tr th:only-of-type {\n",
       "        vertical-align: middle;\n",
       "    }\n",
       "\n",
       "    .dataframe tbody tr th {\n",
       "        vertical-align: top;\n",
       "    }\n",
       "\n",
       "    .dataframe thead th {\n",
       "        text-align: right;\n",
       "    }\n",
       "</style>\n",
       "<table border=\"1\" class=\"dataframe\">\n",
       "  <thead>\n",
       "    <tr style=\"text-align: right;\">\n",
       "      <th></th>\n",
       "      <th>Pregnancies</th>\n",
       "      <th>Glucose</th>\n",
       "      <th>BloodPressure</th>\n",
       "      <th>SkinThickness</th>\n",
       "      <th>Insulin</th>\n",
       "      <th>BMI</th>\n",
       "      <th>DiabetesPedigreeFunction</th>\n",
       "      <th>Age</th>\n",
       "      <th>Outcome</th>\n",
       "    </tr>\n",
       "  </thead>\n",
       "  <tbody>\n",
       "    <tr>\n",
       "      <th>count</th>\n",
       "      <td>768.000000</td>\n",
       "      <td>768.000000</td>\n",
       "      <td>768.000000</td>\n",
       "      <td>768.000000</td>\n",
       "      <td>768.000000</td>\n",
       "      <td>768.000000</td>\n",
       "      <td>768.000000</td>\n",
       "      <td>768.000000</td>\n",
       "      <td>768.000000</td>\n",
       "    </tr>\n",
       "    <tr>\n",
       "      <th>mean</th>\n",
       "      <td>3.845052</td>\n",
       "      <td>121.675781</td>\n",
       "      <td>72.254807</td>\n",
       "      <td>26.606479</td>\n",
       "      <td>118.660163</td>\n",
       "      <td>32.450805</td>\n",
       "      <td>0.471876</td>\n",
       "      <td>33.240885</td>\n",
       "      <td>0.348958</td>\n",
       "    </tr>\n",
       "    <tr>\n",
       "      <th>std</th>\n",
       "      <td>3.369578</td>\n",
       "      <td>30.436252</td>\n",
       "      <td>12.115932</td>\n",
       "      <td>9.631241</td>\n",
       "      <td>93.080358</td>\n",
       "      <td>6.875374</td>\n",
       "      <td>0.331329</td>\n",
       "      <td>11.760232</td>\n",
       "      <td>0.476951</td>\n",
       "    </tr>\n",
       "    <tr>\n",
       "      <th>min</th>\n",
       "      <td>0.000000</td>\n",
       "      <td>44.000000</td>\n",
       "      <td>24.000000</td>\n",
       "      <td>7.000000</td>\n",
       "      <td>14.000000</td>\n",
       "      <td>18.200000</td>\n",
       "      <td>0.078000</td>\n",
       "      <td>21.000000</td>\n",
       "      <td>0.000000</td>\n",
       "    </tr>\n",
       "    <tr>\n",
       "      <th>25%</th>\n",
       "      <td>1.000000</td>\n",
       "      <td>99.750000</td>\n",
       "      <td>64.000000</td>\n",
       "      <td>20.536458</td>\n",
       "      <td>79.799479</td>\n",
       "      <td>27.500000</td>\n",
       "      <td>0.243750</td>\n",
       "      <td>24.000000</td>\n",
       "      <td>0.000000</td>\n",
       "    </tr>\n",
       "    <tr>\n",
       "      <th>50%</th>\n",
       "      <td>3.000000</td>\n",
       "      <td>117.000000</td>\n",
       "      <td>72.000000</td>\n",
       "      <td>23.000000</td>\n",
       "      <td>79.799479</td>\n",
       "      <td>32.000000</td>\n",
       "      <td>0.372500</td>\n",
       "      <td>29.000000</td>\n",
       "      <td>0.000000</td>\n",
       "    </tr>\n",
       "    <tr>\n",
       "      <th>75%</th>\n",
       "      <td>6.000000</td>\n",
       "      <td>140.250000</td>\n",
       "      <td>80.000000</td>\n",
       "      <td>32.000000</td>\n",
       "      <td>127.250000</td>\n",
       "      <td>36.600000</td>\n",
       "      <td>0.626250</td>\n",
       "      <td>41.000000</td>\n",
       "      <td>1.000000</td>\n",
       "    </tr>\n",
       "    <tr>\n",
       "      <th>max</th>\n",
       "      <td>17.000000</td>\n",
       "      <td>199.000000</td>\n",
       "      <td>122.000000</td>\n",
       "      <td>99.000000</td>\n",
       "      <td>846.000000</td>\n",
       "      <td>67.100000</td>\n",
       "      <td>2.420000</td>\n",
       "      <td>81.000000</td>\n",
       "      <td>1.000000</td>\n",
       "    </tr>\n",
       "  </tbody>\n",
       "</table>\n",
       "</div>"
      ],
      "text/plain": [
       "       Pregnancies     Glucose  BloodPressure  SkinThickness     Insulin  \\\n",
       "count   768.000000  768.000000     768.000000     768.000000  768.000000   \n",
       "mean      3.845052  121.675781      72.254807      26.606479  118.660163   \n",
       "std       3.369578   30.436252      12.115932       9.631241   93.080358   \n",
       "min       0.000000   44.000000      24.000000       7.000000   14.000000   \n",
       "25%       1.000000   99.750000      64.000000      20.536458   79.799479   \n",
       "50%       3.000000  117.000000      72.000000      23.000000   79.799479   \n",
       "75%       6.000000  140.250000      80.000000      32.000000  127.250000   \n",
       "max      17.000000  199.000000     122.000000      99.000000  846.000000   \n",
       "\n",
       "              BMI  DiabetesPedigreeFunction         Age     Outcome  \n",
       "count  768.000000                768.000000  768.000000  768.000000  \n",
       "mean    32.450805                  0.471876   33.240885    0.348958  \n",
       "std      6.875374                  0.331329   11.760232    0.476951  \n",
       "min     18.200000                  0.078000   21.000000    0.000000  \n",
       "25%     27.500000                  0.243750   24.000000    0.000000  \n",
       "50%     32.000000                  0.372500   29.000000    0.000000  \n",
       "75%     36.600000                  0.626250   41.000000    1.000000  \n",
       "max     67.100000                  2.420000   81.000000    1.000000  "
      ]
     },
     "execution_count": 22,
     "metadata": {},
     "output_type": "execute_result"
    }
   ],
   "source": [
    "df.describe()"
   ]
  },
  {
   "cell_type": "code",
   "execution_count": 23,
   "id": "c131f282",
   "metadata": {},
   "outputs": [
    {
     "data": {
      "text/plain": [
       "Index(['Pregnancies', 'Glucose', 'BloodPressure', 'SkinThickness', 'Insulin',\n",
       "       'BMI', 'DiabetesPedigreeFunction', 'Age', 'Outcome'],\n",
       "      dtype='object')"
      ]
     },
     "execution_count": 23,
     "metadata": {},
     "output_type": "execute_result"
    }
   ],
   "source": [
    "df.columns"
   ]
  },
  {
   "cell_type": "code",
   "execution_count": 24,
   "id": "7dca9252",
   "metadata": {},
   "outputs": [
    {
     "name": "stderr",
     "output_type": "stream",
     "text": [
      "C:\\Users\\ADMIN\\anaconda3b\\lib\\site-packages\\seaborn\\_decorators.py:36: FutureWarning: Pass the following variable as a keyword arg: x. From version 0.12, the only valid positional argument will be `data`, and passing other arguments without an explicit keyword will result in an error or misinterpretation.\n",
      "  warnings.warn(\n"
     ]
    },
    {
     "data": {
      "image/png": "[encoded data removed]",
      "text/plain": [
       "<Figure size 1152x720 with 1 Axes>"
      ]
     },
     "metadata": {
      "needs_background": "light"
     },
     "output_type": "display_data"
    }
   ],
   "source": [
    "plt.figure(figsize=(16,10))\n",
    "sns.countplot(\"Pregnancies\",data=df,hue=\"Outcome\");"
   ]
  },
  {
   "cell_type": "code",
   "execution_count": 25,
   "id": "b068ce81",
   "metadata": {},
   "outputs": [
    {
     "data": {
      "text/html": [
       "<div>\n",
       "<style scoped>\n",
       "    .dataframe tbody tr th:only-of-type {\n",
       "        vertical-align: middle;\n",
       "    }\n",
       "\n",
       "    .dataframe tbody tr th {\n",
       "        vertical-align: top;\n",
       "    }\n",
       "\n",
       "    .dataframe thead th {\n",
       "        text-align: right;\n",
       "    }\n",
       "</style>\n",
       "<table border=\"1\" class=\"dataframe\">\n",
       "  <thead>\n",
       "    <tr style=\"text-align: right;\">\n",
       "      <th></th>\n",
       "      <th>Pregnancies</th>\n",
       "      <th>Glucose</th>\n",
       "      <th>BloodPressure</th>\n",
       "      <th>SkinThickness</th>\n",
       "      <th>Insulin</th>\n",
       "      <th>BMI</th>\n",
       "      <th>DiabetesPedigreeFunction</th>\n",
       "      <th>Age</th>\n",
       "      <th>Outcome</th>\n",
       "    </tr>\n",
       "  </thead>\n",
       "  <tbody>\n",
       "    <tr>\n",
       "      <th>Pregnancies</th>\n",
       "      <td>1.000000</td>\n",
       "      <td>0.128022</td>\n",
       "      <td>0.208984</td>\n",
       "      <td>0.013376</td>\n",
       "      <td>-0.018082</td>\n",
       "      <td>0.021546</td>\n",
       "      <td>-0.033523</td>\n",
       "      <td>0.544341</td>\n",
       "      <td>0.221898</td>\n",
       "    </tr>\n",
       "    <tr>\n",
       "      <th>Glucose</th>\n",
       "      <td>0.128022</td>\n",
       "      <td>1.000000</td>\n",
       "      <td>0.219738</td>\n",
       "      <td>0.160705</td>\n",
       "      <td>0.396697</td>\n",
       "      <td>0.231464</td>\n",
       "      <td>0.137158</td>\n",
       "      <td>0.266673</td>\n",
       "      <td>0.492884</td>\n",
       "    </tr>\n",
       "    <tr>\n",
       "      <th>BloodPressure</th>\n",
       "      <td>0.208984</td>\n",
       "      <td>0.219738</td>\n",
       "      <td>1.000000</td>\n",
       "      <td>0.134155</td>\n",
       "      <td>0.010926</td>\n",
       "      <td>0.281231</td>\n",
       "      <td>0.000371</td>\n",
       "      <td>0.326740</td>\n",
       "      <td>0.162986</td>\n",
       "    </tr>\n",
       "    <tr>\n",
       "      <th>SkinThickness</th>\n",
       "      <td>0.013376</td>\n",
       "      <td>0.160705</td>\n",
       "      <td>0.134155</td>\n",
       "      <td>1.000000</td>\n",
       "      <td>0.240361</td>\n",
       "      <td>0.535703</td>\n",
       "      <td>0.154961</td>\n",
       "      <td>0.026423</td>\n",
       "      <td>0.175026</td>\n",
       "    </tr>\n",
       "    <tr>\n",
       "      <th>Insulin</th>\n",
       "      <td>-0.018082</td>\n",
       "      <td>0.396697</td>\n",
       "      <td>0.010926</td>\n",
       "      <td>0.240361</td>\n",
       "      <td>1.000000</td>\n",
       "      <td>0.189856</td>\n",
       "      <td>0.157806</td>\n",
       "      <td>0.038652</td>\n",
       "      <td>0.179185</td>\n",
       "    </tr>\n",
       "    <tr>\n",
       "      <th>BMI</th>\n",
       "      <td>0.021546</td>\n",
       "      <td>0.231464</td>\n",
       "      <td>0.281231</td>\n",
       "      <td>0.535703</td>\n",
       "      <td>0.189856</td>\n",
       "      <td>1.000000</td>\n",
       "      <td>0.153508</td>\n",
       "      <td>0.025748</td>\n",
       "      <td>0.312254</td>\n",
       "    </tr>\n",
       "    <tr>\n",
       "      <th>DiabetesPedigreeFunction</th>\n",
       "      <td>-0.033523</td>\n",
       "      <td>0.137158</td>\n",
       "      <td>0.000371</td>\n",
       "      <td>0.154961</td>\n",
       "      <td>0.157806</td>\n",
       "      <td>0.153508</td>\n",
       "      <td>1.000000</td>\n",
       "      <td>0.033561</td>\n",
       "      <td>0.173844</td>\n",
       "    </tr>\n",
       "    <tr>\n",
       "      <th>Age</th>\n",
       "      <td>0.544341</td>\n",
       "      <td>0.266673</td>\n",
       "      <td>0.326740</td>\n",
       "      <td>0.026423</td>\n",
       "      <td>0.038652</td>\n",
       "      <td>0.025748</td>\n",
       "      <td>0.033561</td>\n",
       "      <td>1.000000</td>\n",
       "      <td>0.238356</td>\n",
       "    </tr>\n",
       "    <tr>\n",
       "      <th>Outcome</th>\n",
       "      <td>0.221898</td>\n",
       "      <td>0.492884</td>\n",
       "      <td>0.162986</td>\n",
       "      <td>0.175026</td>\n",
       "      <td>0.179185</td>\n",
       "      <td>0.312254</td>\n",
       "      <td>0.173844</td>\n",
       "      <td>0.238356</td>\n",
       "      <td>1.000000</td>\n",
       "    </tr>\n",
       "  </tbody>\n",
       "</table>\n",
       "</div>"
      ],
      "text/plain": [
       "                          Pregnancies   Glucose  BloodPressure  SkinThickness  \\\n",
       "Pregnancies                  1.000000  0.128022       0.208984       0.013376   \n",
       "Glucose                      0.128022  1.000000       0.219738       0.160705   \n",
       "BloodPressure                0.208984  0.219738       1.000000       0.134155   \n",
       "SkinThickness                0.013376  0.160705       0.134155       1.000000   \n",
       "Insulin                     -0.018082  0.396697       0.010926       0.240361   \n",
       "BMI                          0.021546  0.231464       0.281231       0.535703   \n",
       "DiabetesPedigreeFunction    -0.033523  0.137158       0.000371       0.154961   \n",
       "Age                          0.544341  0.266673       0.326740       0.026423   \n",
       "Outcome                      0.221898  0.492884       0.162986       0.175026   \n",
       "\n",
       "                           Insulin       BMI  DiabetesPedigreeFunction  \\\n",
       "Pregnancies              -0.018082  0.021546                 -0.033523   \n",
       "Glucose                   0.396697  0.231464                  0.137158   \n",
       "BloodPressure             0.010926  0.281231                  0.000371   \n",
       "SkinThickness             0.240361  0.535703                  0.154961   \n",
       "Insulin                   1.000000  0.189856                  0.157806   \n",
       "BMI                       0.189856  1.000000                  0.153508   \n",
       "DiabetesPedigreeFunction  0.157806  0.153508                  1.000000   \n",
       "Age                       0.038652  0.025748                  0.033561   \n",
       "Outcome                   0.179185  0.312254                  0.173844   \n",
       "\n",
       "                               Age   Outcome  \n",
       "Pregnancies               0.544341  0.221898  \n",
       "Glucose                   0.266673  0.492884  \n",
       "BloodPressure             0.326740  0.162986  \n",
       "SkinThickness             0.026423  0.175026  \n",
       "Insulin                   0.038652  0.179185  \n",
       "BMI                       0.025748  0.312254  \n",
       "DiabetesPedigreeFunction  0.033561  0.173844  \n",
       "Age                       1.000000  0.238356  \n",
       "Outcome                   0.238356  1.000000  "
      ]
     },
     "execution_count": 25,
     "metadata": {},
     "output_type": "execute_result"
    }
   ],
   "source": [
    "df.corr()"
   ]
  },
  {
   "cell_type": "code",
   "execution_count": 26,
   "id": "de260ec4",
   "metadata": {},
   "outputs": [
    {
     "data": {
      "image/png": "[encoded data removed]",
      "text/plain": [
       "<Figure size 432x288 with 2 Axes>"
      ]
     },
     "metadata": {
      "needs_background": "light"
     },
     "output_type": "display_data"
    }
   ],
   "source": [
    "#Plot the correlation matrix for easier readability\n",
    "sns.heatmap(df.corr(), annot = True, fmt = '.2f', center = 0);"
   ]
  },
  {
   "cell_type": "markdown",
   "id": "00babc95",
   "metadata": {},
   "source": [
    "#### Separate the dependent variable and independent variable"
   ]
  },
  {
   "cell_type": "code",
   "execution_count": 27,
   "id": "7e0fd51e",
   "metadata": {},
   "outputs": [],
   "source": [
    "#Extract the independent variables\n",
    "X=df.drop(columns=[\"Outcome\"])"
   ]
  },
  {
   "cell_type": "code",
   "execution_count": 28,
   "id": "21ad4e8e",
   "metadata": {},
   "outputs": [],
   "source": [
    "#Extract the dependent variable\n",
    "y=df[\"Outcome\"]"
   ]
  },
  {
   "cell_type": "markdown",
   "id": "33ec6798",
   "metadata": {},
   "source": [
    "### Split the Data 80/20"
   ]
  },
  {
   "cell_type": "code",
   "execution_count": 29,
   "id": "23b4c2c6",
   "metadata": {},
   "outputs": [],
   "source": [
    "from sklearn.model_selection import train_test_split\n",
    "X_train,X_test,y_train,y_test=train_test_split(X,y,test_size=0.20, random_state=42)"
   ]
  },
  {
   "cell_type": "markdown",
   "id": "96f48b77",
   "metadata": {},
   "source": [
    "### Preprocessing for the Algorithms"
   ]
  },
  {
   "cell_type": "code",
   "execution_count": 30,
   "id": "b9c3d3a5",
   "metadata": {},
   "outputs": [],
   "source": [
    "from sklearn.preprocessing import StandardScaler\n",
    "scal = StandardScaler()\n",
    "\n",
    "X_train=scal.fit_transform(X_train)\n",
    "X_test=scal.fit_transform(X_test)"
   ]
  },
  {
   "cell_type": "markdown",
   "id": "484db1a4",
   "metadata": {},
   "source": [
    " > ### Logistic Regression"
   ]
  },
  {
   "cell_type": "code",
   "execution_count": 31,
   "id": "16862285",
   "metadata": {},
   "outputs": [],
   "source": [
    "log_X_train = X_train.copy()\n",
    "log_X_test = X_test.copy()\n",
    "log_y_train= y_train.copy()\n",
    "log_y_test =y_test.copy()"
   ]
  },
  {
   "cell_type": "code",
   "execution_count": 32,
   "id": "1238192b",
   "metadata": {},
   "outputs": [
    {
     "data": {
      "text/plain": [
       "LogisticRegression(random_state=42)"
      ]
     },
     "execution_count": 32,
     "metadata": {},
     "output_type": "execute_result"
    }
   ],
   "source": [
    "# create logistic regression object\n",
    "from sklearn.linear_model import LogisticRegression\n",
    "clf = LogisticRegression(random_state=42)\n",
    "\n",
    "# fit the model\n",
    "clf.fit(log_X_train, log_y_train)"
   ]
  },
  {
   "cell_type": "code",
   "execution_count": 33,
   "id": "bd1f4490",
   "metadata": {},
   "outputs": [],
   "source": [
    "# make predictions\n",
    "log_y_pred = clf.predict(log_X_test)"
   ]
  },
  {
   "cell_type": "code",
   "execution_count": 34,
   "id": "d38aaca6",
   "metadata": {},
   "outputs": [
    {
     "name": "stdout",
     "output_type": "stream",
     "text": [
      "Logistic Regression Accuracy: 77.27%\n",
      "Logistic Regression Precison: 70.83%\n",
      "Logistic Regression Recall: 61.82%\n",
      "Logistic Regression F1_Score: 66.02%\n"
     ]
    }
   ],
   "source": [
    "# calculate accuracy and other metrics\n",
    "from sklearn.metrics import f1_score, accuracy_score, confusion_matrix, recall_score, precision_score\n",
    "log_accuracy = clf.score(log_X_test, log_y_test)\n",
    "log_precision= precision_score(log_y_test, log_y_pred)\n",
    "log_recall= recall_score(log_y_test, log_y_pred)\n",
    "log_f1_score= f1_score(log_y_test, log_y_pred)\n",
    "\n",
    "print(\"Logistic Regression Accuracy: {:.2f}%\".format(log_accuracy*100))\n",
    "print(\"Logistic Regression Precison: {:.2f}%\".format(log_precision*100))\n",
    "print(\"Logistic Regression Recall: {:.2f}%\".format(log_recall*100))\n",
    "print(\"Logistic Regression F1_Score: {:.2f}%\".format(log_f1_score*100))"
   ]
  },
  {
   "cell_type": "code",
   "execution_count": 35,
   "id": "1116f5f9",
   "metadata": {},
   "outputs": [
    {
     "name": "stdout",
     "output_type": "stream",
     "text": [
      "              precision    recall  f1-score   support\n",
      "\n",
      "           0       0.80      0.86      0.83        99\n",
      "           1       0.71      0.62      0.66        55\n",
      "\n",
      "    accuracy                           0.77       154\n",
      "   macro avg       0.76      0.74      0.74       154\n",
      "weighted avg       0.77      0.77      0.77       154\n",
      "\n"
     ]
    }
   ],
   "source": [
    "#Print classification report\n",
    "from sklearn.metrics import classification_report\n",
    "print(classification_report(log_y_test, log_y_pred))\n"
   ]
  },
  {
   "cell_type": "code",
   "execution_count": 36,
   "id": "fe9d9e97",
   "metadata": {
    "scrolled": false
   },
   "outputs": [
    {
     "name": "stdout",
     "output_type": "stream",
     "text": [
      "Logistic Regression Confusion Matrix \n",
      " [[85 14]\n",
      " [21 34]]\n"
     ]
    },
    {
     "data": {
      "image/png": "[encoded data removed]",
      "text/plain": [
       "<Figure size 432x432 with 2 Axes>"
      ]
     },
     "metadata": {
      "needs_background": "light"
     },
     "output_type": "display_data"
    }
   ],
   "source": [
    "# create confusion matrix\n",
    "log_cm = confusion_matrix(log_y_test, log_y_pred)\n",
    "print('Logistic Regression Confusion Matrix \\n', log_cm)\n",
    "\n",
    "# plot confusion matrix\n",
    "plt.figure(figsize=(6,6))\n",
    "sns.heatmap(log_cm, annot=True, cmap='Blues', fmt= 'g')\n",
    "plt.title('Confusion Matrix for Logistic Regression Model')\n",
    "plt.xlabel('Predicted')\n",
    "plt.ylabel('Actual');"
   ]
  },
  {
   "cell_type": "markdown",
   "id": "4cb65897",
   "metadata": {},
   "source": [
    "#### Extract the values of the confusion matrix"
   ]
  },
  {
   "cell_type": "code",
   "execution_count": 37,
   "id": "ff6dc115",
   "metadata": {},
   "outputs": [],
   "source": [
    "log_tn, log_fp, log_fn, log_tp =log_cm.flatten()"
   ]
  },
  {
   "cell_type": "markdown",
   "id": "dedf8104",
   "metadata": {},
   "source": [
    "#### Calculate the Sensitivity and Specificity"
   ]
  },
  {
   "cell_type": "code",
   "execution_count": 38,
   "id": "b700dc23",
   "metadata": {
    "scrolled": true
   },
   "outputs": [
    {
     "name": "stdout",
     "output_type": "stream",
     "text": [
      "Logistic Regression Sensitivity:  0.6181818181818182\n",
      "Logistic Regression Specificity:  0.8585858585858586\n"
     ]
    }
   ],
   "source": [
    "log_sensitivity = log_tp/(log_tp+log_fn)\n",
    "log_specificity = log_tn/(log_tn+log_fp)\n",
    "print('Logistic Regression Sensitivity: ',log_sensitivity)\n",
    "print('Logistic Regression Specificity: ',log_specificity)"
   ]
  },
  {
   "cell_type": "markdown",
   "id": "6b24cdca",
   "metadata": {},
   "source": [
    "> ## KNN"
   ]
  },
  {
   "cell_type": "code",
   "execution_count": 39,
   "id": "7a9b2569",
   "metadata": {},
   "outputs": [],
   "source": [
    "knn_X_train = X_train.copy()\n",
    "knn_X_test = X_test.copy()\n",
    "knn_y_train= y_train.copy()\n",
    "knn_y_test =y_test.copy()"
   ]
  },
  {
   "cell_type": "code",
   "execution_count": 41,
   "id": "a87bb671",
   "metadata": {},
   "outputs": [],
   "source": [
    "#Create a classifier\n",
    "from sklearn.neighbors import KNeighborsClassifier\n",
    "knn= KNeighborsClassifier(n_neighbors=5)\n",
    "\n",
    "#Train the KNN classifier\n",
    "knn.fit(knn_X_train, knn_y_train)\n",
    "\n",
    "#Predict the Outcome\n",
    "knn_y_pred = knn.predict(knn_X_test)"
   ]
  },
  {
   "cell_type": "code",
   "execution_count": 42,
   "id": "40d84d2b",
   "metadata": {},
   "outputs": [
    {
     "name": "stdout",
     "output_type": "stream",
     "text": [
      "KNN Accuracy: 70.13%\n",
      "KNN Precison: 57.89%\n",
      "KNN Recall: 60.00%\n",
      "KNN F1_Score: 58.93%\n"
     ]
    }
   ],
   "source": [
    "# calculate accuracy and other metrics\n",
    "from sklearn.metrics import f1_score, accuracy_score, confusion_matrix, recall_score, precision_score\n",
    "knn_accuracy = accuracy_score(knn_y_test, knn_y_pred)\n",
    "knn_precision= precision_score(knn_y_test, knn_y_pred)\n",
    "knn_recall= recall_score(knn_y_test, knn_y_pred)\n",
    "knn_f1_score= f1_score(knn_y_test, knn_y_pred)\n",
    "\n",
    "print(\"KNN Accuracy: {:.2f}%\".format(knn_accuracy*100))\n",
    "print(\"KNN Precison: {:.2f}%\".format(knn_precision*100))\n",
    "print(\"KNN Recall: {:.2f}%\".format(knn_recall*100))\n",
    "print(\"KNN F1_Score: {:.2f}%\".format(knn_f1_score*100))\n"
   ]
  },
  {
   "cell_type": "code",
   "execution_count": 43,
   "id": "032d72d7",
   "metadata": {},
   "outputs": [
    {
     "name": "stdout",
     "output_type": "stream",
     "text": [
      "              precision    recall  f1-score   support\n",
      "\n",
      "           0       0.77      0.76      0.77        99\n",
      "           1       0.58      0.60      0.59        55\n",
      "\n",
      "    accuracy                           0.70       154\n",
      "   macro avg       0.68      0.68      0.68       154\n",
      "weighted avg       0.70      0.70      0.70       154\n",
      "\n"
     ]
    }
   ],
   "source": [
    "#Print classification report\n",
    "from sklearn.metrics import classification_report\n",
    "print(classification_report(knn_y_test, knn_y_pred))"
   ]
  },
  {
   "cell_type": "code",
   "execution_count": 44,
   "id": "6a84c600",
   "metadata": {},
   "outputs": [
    {
     "name": "stdout",
     "output_type": "stream",
     "text": [
      "KNN Confusion Matrix \n",
      " [[75 24]\n",
      " [22 33]]\n"
     ]
    },
    {
     "data": {
      "image/png": "[encoded data removed]",
      "text/plain": [
       "<Figure size 432x432 with 2 Axes>"
      ]
     },
     "metadata": {
      "needs_background": "light"
     },
     "output_type": "display_data"
    }
   ],
   "source": [
    "# create confusion matrix\n",
    "knn_cm = confusion_matrix(knn_y_test, knn_y_pred)\n",
    "print('KNN Confusion Matrix \\n', knn_cm)\n",
    "\n",
    "# plot confusion matrix\n",
    "plt.figure(figsize=(6,6))\n",
    "sns.heatmap(knn_cm, annot=True, cmap='Blues', fmt= 'g')\n",
    "plt.title('Confusion Matrix for KNN Model')\n",
    "plt.xlabel('Predicted')\n",
    "plt.ylabel('Actual');"
   ]
  },
  {
   "cell_type": "markdown",
   "id": "abdc25a4",
   "metadata": {},
   "source": [
    "#### Extract the values of the confusion matrix"
   ]
  },
  {
   "cell_type": "code",
   "execution_count": 45,
   "id": "db8f37ec",
   "metadata": {},
   "outputs": [],
   "source": [
    "knn_tn, knn_fp, knn_fn, knn_tp =knn_cm.flatten()"
   ]
  },
  {
   "cell_type": "markdown",
   "id": "5d9a4abe",
   "metadata": {},
   "source": [
    "#### Calculate the Sensitivity and Specificity"
   ]
  },
  {
   "cell_type": "code",
   "execution_count": 46,
   "id": "32915cf5",
   "metadata": {},
   "outputs": [
    {
     "name": "stdout",
     "output_type": "stream",
     "text": [
      "KNN Sensitivity:  0.6\n",
      "KNN Specificity:  0.7575757575757576\n"
     ]
    }
   ],
   "source": [
    "knn_sensitivity = knn_tp/(knn_tp+knn_fn)\n",
    "knn_specificity = knn_tn/(knn_tn+knn_fp)\n",
    "print('KNN Sensitivity: ',knn_sensitivity)\n",
    "print('KNN Specificity: ',knn_specificity)"
   ]
  },
  {
   "cell_type": "markdown",
   "id": "7a514494",
   "metadata": {},
   "source": [
    "> ## Support Vector Machine (SVM)"
   ]
  },
  {
   "cell_type": "code",
   "execution_count": 47,
   "id": "b17c39e7",
   "metadata": {},
   "outputs": [],
   "source": [
    "#Copy the train and test data\n",
    "svm_X_train = X_train.copy()\n",
    "svm_X_test = X_test.copy()\n",
    "svm_y_train= y_train.copy()\n",
    "svm_y_test =y_test.copy()\n",
    "\n"
   ]
  },
  {
   "cell_type": "code",
   "execution_count": 48,
   "id": "6f8ede22",
   "metadata": {},
   "outputs": [],
   "source": [
    "#Create SVM classifier object\n",
    "from sklearn.svm import SVC\n",
    "svm = SVC(kernel='linear', random_state=42)\n",
    "\n",
    "#Train the Classifier\n",
    "svm.fit(svm_X_train, svm_y_train)\n",
    "\n",
    "#Make prediction\n",
    "svm_y_pred =svm.predict(svm_X_test)"
   ]
  },
  {
   "cell_type": "code",
   "execution_count": 49,
   "id": "3c7ab997",
   "metadata": {},
   "outputs": [
    {
     "name": "stdout",
     "output_type": "stream",
     "text": [
      "SVM Accuracy: 77.27%\n",
      "SVM Precison: 70.83%\n",
      "SVM Recall: 61.82%\n",
      "SVM F1_Score: 66.02%\n"
     ]
    }
   ],
   "source": [
    "# calculate accuracy and other metrics\n",
    "from sklearn.metrics import f1_score, accuracy_score, confusion_matrix, recall_score, precision_score\n",
    "svm_accuracy = accuracy_score(svm_y_test, svm_y_pred)\n",
    "svm_precision= precision_score(svm_y_test, svm_y_pred)\n",
    "svm_recall= recall_score(svm_y_test, svm_y_pred)\n",
    "svm_f1_score= f1_score(svm_y_test, svm_y_pred)\n",
    "\n",
    "print(\"SVM Accuracy: {:.2f}%\".format(svm_accuracy*100))\n",
    "print(\"SVM Precison: {:.2f}%\".format(svm_precision*100))\n",
    "print(\"SVM Recall: {:.2f}%\".format(svm_recall*100))\n",
    "print(\"SVM F1_Score: {:.2f}%\".format(svm_f1_score*100))"
   ]
  },
  {
   "cell_type": "code",
   "execution_count": 50,
   "id": "e86d9752",
   "metadata": {},
   "outputs": [
    {
     "name": "stdout",
     "output_type": "stream",
     "text": [
      "              precision    recall  f1-score   support\n",
      "\n",
      "           0       0.80      0.86      0.83        99\n",
      "           1       0.71      0.62      0.66        55\n",
      "\n",
      "    accuracy                           0.77       154\n",
      "   macro avg       0.76      0.74      0.74       154\n",
      "weighted avg       0.77      0.77      0.77       154\n",
      "\n"
     ]
    }
   ],
   "source": [
    "#Print classification report\n",
    "from sklearn.metrics import classification_report\n",
    "print(classification_report(svm_y_test, svm_y_pred))\n"
   ]
  },
  {
   "cell_type": "code",
   "execution_count": 51,
   "id": "a3e22860",
   "metadata": {
    "scrolled": false
   },
   "outputs": [
    {
     "name": "stdout",
     "output_type": "stream",
     "text": [
      "SVM Confusion Matrix \n",
      " [[85 14]\n",
      " [21 34]]\n"
     ]
    },
    {
     "data": {
      "image/png": "[encoded data removed]",
      "text/plain": [
       "<Figure size 432x432 with 2 Axes>"
      ]
     },
     "metadata": {
      "needs_background": "light"
     },
     "output_type": "display_data"
    }
   ],
   "source": [
    "# create confusion matrix\n",
    "svm_cm = confusion_matrix(svm_y_test, svm_y_pred)\n",
    "print('SVM Confusion Matrix \\n', svm_cm)\n",
    "\n",
    "# plot confusion matrix\n",
    "plt.figure(figsize=(6,6))\n",
    "sns.heatmap(svm_cm, annot=True, cmap='Blues', fmt= 'g')\n",
    "plt.title('Confusion Matrix for SVM Model')\n",
    "plt.xlabel('Predicted')\n",
    "plt.ylabel('Actual');"
   ]
  },
  {
   "cell_type": "markdown",
   "id": "45590cfd",
   "metadata": {},
   "source": [
    "#### Extract the values of the confusion matrix"
   ]
  },
  {
   "cell_type": "code",
   "execution_count": 52,
   "id": "90f71192",
   "metadata": {},
   "outputs": [],
   "source": [
    "svm_tn, svm_fp, svm_fn, svm_tp =svm_cm.flatten()"
   ]
  },
  {
   "cell_type": "markdown",
   "id": "8ade63c2",
   "metadata": {},
   "source": [
    "#### Calculate the Sensitivity and Specificity"
   ]
  },
  {
   "cell_type": "code",
   "execution_count": 53,
   "id": "6c88a031",
   "metadata": {},
   "outputs": [
    {
     "name": "stdout",
     "output_type": "stream",
     "text": [
      "SVM Sensitivity:  0.6181818181818182\n",
      "SVM Specificity:  0.8585858585858586\n"
     ]
    }
   ],
   "source": [
    "svm_sensitivity = svm_tp/(svm_tp+svm_fn)\n",
    "svm_specificity = svm_tn/(svm_tn+svm_fp)\n",
    "print('SVM Sensitivity: ',svm_sensitivity)\n",
    "print('SVM Specificity: ',svm_specificity)"
   ]
  },
  {
   "cell_type": "markdown",
   "id": "196d5be3",
   "metadata": {},
   "source": [
    "> ## Decision Trees"
   ]
  },
  {
   "cell_type": "code",
   "execution_count": 54,
   "id": "91593e2e",
   "metadata": {},
   "outputs": [],
   "source": [
    "#Copy the train and test data\n",
    "dt_X_train = X_train.copy()\n",
    "dt_X_test = X_test.copy()\n",
    "dt_y_train= y_train.copy()\n",
    "dt_y_test =y_test.copy()"
   ]
  },
  {
   "cell_type": "code",
   "execution_count": 55,
   "id": "c10e261d",
   "metadata": {},
   "outputs": [],
   "source": [
    "# create Decision Tree classifier\n",
    "from sklearn.tree import DecisionTreeClassifier\n",
    "dt = DecisionTreeClassifier(criterion='entropy',random_state=42)\n",
    "\n",
    "#fit the model\n",
    "dt.fit(dt_X_train, dt_y_train)\n",
    "\n",
    "#make predictions\n",
    "dt_y_pred = dt.predict(dt_X_test)"
   ]
  },
  {
   "cell_type": "code",
   "execution_count": 56,
   "id": "ac44ad3f",
   "metadata": {},
   "outputs": [
    {
     "name": "stdout",
     "output_type": "stream",
     "text": [
      "Decision Tree Accuracy: 71.43%\n",
      "Decison Tree Precison: 60.78%\n",
      "Decision Tree Recall: 56.36%\n",
      "Decision Tree F1_Score: 58.49%\n"
     ]
    }
   ],
   "source": [
    "# calculate accuracy and other metrics\n",
    "from sklearn.metrics import f1_score, accuracy_score, confusion_matrix, recall_score, precision_score\n",
    "dt_accuracy = accuracy_score(dt_y_test, dt_y_pred)\n",
    "dt_precision= precision_score(dt_y_test, dt_y_pred)\n",
    "dt_recall= recall_score(dt_y_test, dt_y_pred)\n",
    "dt_f1_score= f1_score(dt_y_test, dt_y_pred)\n",
    "\n",
    "print(\"Decision Tree Accuracy: {:.2f}%\".format(dt_accuracy*100))\n",
    "print(\"Decison Tree Precison: {:.2f}%\".format(dt_precision*100))\n",
    "print(\"Decision Tree Recall: {:.2f}%\".format(dt_recall*100))\n",
    "print(\"Decision Tree F1_Score: {:.2f}%\".format(dt_f1_score*100))"
   ]
  },
  {
   "cell_type": "code",
   "execution_count": 57,
   "id": "ad35041d",
   "metadata": {},
   "outputs": [
    {
     "name": "stdout",
     "output_type": "stream",
     "text": [
      "              precision    recall  f1-score   support\n",
      "\n",
      "           0       0.77      0.80      0.78        99\n",
      "           1       0.61      0.56      0.58        55\n",
      "\n",
      "    accuracy                           0.71       154\n",
      "   macro avg       0.69      0.68      0.68       154\n",
      "weighted avg       0.71      0.71      0.71       154\n",
      "\n"
     ]
    }
   ],
   "source": [
    "#Print classification report\n",
    "from sklearn.metrics import classification_report\n",
    "print(classification_report(dt_y_test, dt_y_pred))"
   ]
  },
  {
   "cell_type": "code",
   "execution_count": 58,
   "id": "0ba84e5f",
   "metadata": {},
   "outputs": [
    {
     "name": "stdout",
     "output_type": "stream",
     "text": [
      "Decision Tree Confusion Matrix \n",
      " [[79 20]\n",
      " [24 31]]\n"
     ]
    },
    {
     "data": {
      "image/png": "[encoded data removed]",
      "text/plain": [
       "<Figure size 432x432 with 2 Axes>"
      ]
     },
     "metadata": {
      "needs_background": "light"
     },
     "output_type": "display_data"
    }
   ],
   "source": [
    "# create confusion matrix\n",
    "dt_cm = confusion_matrix(dt_y_test, dt_y_pred)\n",
    "print('Decision Tree Confusion Matrix \\n', dt_cm)\n",
    "\n",
    "# plot confusion matrix\n",
    "plt.figure(figsize=(6,6))\n",
    "sns.heatmap(dt_cm, annot=True, cmap='Blues', fmt= 'g')\n",
    "plt.title('Confusion Matrix for Decision Tree Model')\n",
    "plt.xlabel('Predicted')\n",
    "plt.ylabel('Actual');"
   ]
  },
  {
   "cell_type": "markdown",
   "id": "5d84b089",
   "metadata": {},
   "source": [
    "#### Extract the values of the confusion matrix"
   ]
  },
  {
   "cell_type": "code",
   "execution_count": 59,
   "id": "a1036a4a",
   "metadata": {
    "scrolled": true
   },
   "outputs": [],
   "source": [
    "dt_tn, dt_fp, dt_fn, dt_tp =dt_cm.flatten()"
   ]
  },
  {
   "cell_type": "markdown",
   "id": "340333ad",
   "metadata": {},
   "source": [
    "#### Calculate the Sensitivity and Specificity"
   ]
  },
  {
   "cell_type": "code",
   "execution_count": 60,
   "id": "e1a44981",
   "metadata": {},
   "outputs": [
    {
     "name": "stdout",
     "output_type": "stream",
     "text": [
      "Decision Tree Sensitivity:  0.5636363636363636\n",
      "Decision Tree Specificity:  0.797979797979798\n"
     ]
    }
   ],
   "source": [
    "dt_sensitivity = dt_tp/(dt_tp+dt_fn)\n",
    "dt_specificity = dt_tn/(dt_tn+dt_fp)\n",
    "print('Decision Tree Sensitivity: ',dt_sensitivity)\n",
    "print('Decision Tree Specificity: ',dt_specificity)"
   ]
  },
  {
   "cell_type": "markdown",
   "id": "3ba48fc6",
   "metadata": {},
   "source": [
    "> ## Random Forest Classification"
   ]
  },
  {
   "cell_type": "code",
   "execution_count": 61,
   "id": "f9344adb",
   "metadata": {},
   "outputs": [],
   "source": [
    "#Copy the train and test data\n",
    "rf_X_train = X_train.copy()\n",
    "rf_X_test = X_test.copy()\n",
    "rf_y_train= y_train.copy()\n",
    "rf_y_test =y_test.copy()"
   ]
  },
  {
   "cell_type": "code",
   "execution_count": 62,
   "id": "d6c41ee8",
   "metadata": {},
   "outputs": [],
   "source": [
    "# create a random forest classification\n",
    "from sklearn.ensemble import RandomForestClassifier\n",
    "rf = RandomForestClassifier(n_estimators = 100, random_state=42)\n",
    "\n",
    "#fit the model\n",
    "rf.fit(rf_X_train, rf_y_train)\n",
    "\n",
    "#make predictions\n",
    "rf_y_pred = rf.predict(rf_X_test)"
   ]
  },
  {
   "cell_type": "code",
   "execution_count": 63,
   "id": "4c3c96ea",
   "metadata": {},
   "outputs": [
    {
     "name": "stdout",
     "output_type": "stream",
     "text": [
      "Random Forest Accuracy: 76.62%\n",
      "Random Forest Precison: 69.39%\n",
      "Random Forest Recall: 61.82%\n",
      "Random Forest F1_Score: 65.38%\n"
     ]
    }
   ],
   "source": [
    "# calculate accuracy and other metrics\n",
    "from sklearn.metrics import f1_score, accuracy_score, confusion_matrix, recall_score, precision_score\n",
    "rf_accuracy = accuracy_score(rf_y_test, rf_y_pred)\n",
    "rf_precision= precision_score(rf_y_test, rf_y_pred)\n",
    "rf_recall= recall_score(rf_y_test, rf_y_pred)\n",
    "rf_f1_score= f1_score(rf_y_test, rf_y_pred)\n",
    "\n",
    "print(\"Random Forest Accuracy: {:.2f}%\".format(rf_accuracy*100))\n",
    "print(\"Random Forest Precison: {:.2f}%\".format(rf_precision*100))\n",
    "print(\"Random Forest Recall: {:.2f}%\".format(rf_recall*100))\n",
    "print(\"Random Forest F1_Score: {:.2f}%\".format(rf_f1_score*100))"
   ]
  },
  {
   "cell_type": "code",
   "execution_count": 64,
   "id": "22eba21d",
   "metadata": {},
   "outputs": [
    {
     "name": "stdout",
     "output_type": "stream",
     "text": [
      "              precision    recall  f1-score   support\n",
      "\n",
      "           0       0.80      0.85      0.82        99\n",
      "           1       0.69      0.62      0.65        55\n",
      "\n",
      "    accuracy                           0.77       154\n",
      "   macro avg       0.75      0.73      0.74       154\n",
      "weighted avg       0.76      0.77      0.76       154\n",
      "\n"
     ]
    }
   ],
   "source": [
    "#Print classification report\n",
    "from sklearn.metrics import classification_report\n",
    "print(classification_report(rf_y_test, rf_y_pred))"
   ]
  },
  {
   "cell_type": "code",
   "execution_count": 65,
   "id": "0e4abd4d",
   "metadata": {
    "scrolled": false
   },
   "outputs": [
    {
     "data": {
      "image/png": "[encoded data removed]",
      "text/plain": [
       "<Figure size 432x432 with 2 Axes>"
      ]
     },
     "metadata": {
      "needs_background": "light"
     },
     "output_type": "display_data"
    }
   ],
   "source": [
    "#create confusion matrix\n",
    "rf_cm = confusion_matrix(rf_y_test, rf_y_pred)\n",
    "\n",
    "\n",
    "#plot confusion matrix\n",
    "plt.figure(figsize=(6,6))\n",
    "sns.heatmap(rf_cm, annot=True, cmap= 'Greens', fmt= 'g')\n",
    "plt.title('Confusion Matrix for Random Forest Classification Model')\n",
    "plt.xlabel('Predicted')\n",
    "plt.ylabel('Actual');"
   ]
  },
  {
   "cell_type": "markdown",
   "id": "ef3fc85c",
   "metadata": {},
   "source": [
    "#### Extract the values of the confusion matrix"
   ]
  },
  {
   "cell_type": "code",
   "execution_count": 66,
   "id": "267ff6a8",
   "metadata": {},
   "outputs": [],
   "source": [
    "rf_tn, rf_fp, rf_fn, rf_tp =rf_cm.flatten()"
   ]
  },
  {
   "cell_type": "markdown",
   "id": "d4d5f59f",
   "metadata": {},
   "source": [
    "#### Calculate the Sensitivity and Specificity"
   ]
  },
  {
   "cell_type": "code",
   "execution_count": 67,
   "id": "603fedb7",
   "metadata": {
    "scrolled": true
   },
   "outputs": [
    {
     "name": "stdout",
     "output_type": "stream",
     "text": [
      "Random Forest Sensitivity:  0.6181818181818182\n",
      "Random Forest Specificity:  0.8484848484848485\n"
     ]
    }
   ],
   "source": [
    "rf_tn, rf_fp, rf_fn, rf_tp =rf_cm.flatten()\n",
    "\n",
    "rf_sensitivity = rf_tp/(rf_tp+rf_fn)\n",
    "rf_specificity = rf_tn/(rf_tn+rf_fp)\n",
    "print('Random Forest Sensitivity: ',rf_sensitivity)\n",
    "print('Random Forest Specificity: ',rf_specificity)"
   ]
  },
  {
   "cell_type": "markdown",
   "id": "38721a33",
   "metadata": {},
   "source": [
    "## Compare the Models"
   ]
  },
  {
   "cell_type": "code",
   "execution_count": 68,
   "id": "37753b7a",
   "metadata": {},
   "outputs": [],
   "source": [
    "#Create lists of metrics\n",
    "Models =['Logistic Regression', 'KNN', 'SVM', 'Decision Tree', 'Random Forest']\n",
    "Sensitivity =[log_sensitivity, knn_sensitivity, svm_sensitivity, dt_sensitivity, rf_sensitivity]\n",
    "Specificity =[log_specificity, knn_specificity, svm_specificity, dt_specificity, rf_specificity]\n",
    "Precision =[log_precision, knn_precision, svm_precision, dt_precision, rf_precision]\n",
    "Accuracy =[log_accuracy, knn_accuracy, svm_accuracy, dt_accuracy, rf_accuracy]\n",
    "F1_score =[log_f1_score, knn_f1_score, svm_f1_score, dt_f1_score, rf_f1_score]"
   ]
  },
  {
   "cell_type": "code",
   "execution_count": 69,
   "id": "7921e8a0",
   "metadata": {},
   "outputs": [
    {
     "data": {
      "text/html": [
       "<div>\n",
       "<style scoped>\n",
       "    .dataframe tbody tr th:only-of-type {\n",
       "        vertical-align: middle;\n",
       "    }\n",
       "\n",
       "    .dataframe tbody tr th {\n",
       "        vertical-align: top;\n",
       "    }\n",
       "\n",
       "    .dataframe thead th {\n",
       "        text-align: right;\n",
       "    }\n",
       "</style>\n",
       "<table border=\"1\" class=\"dataframe\">\n",
       "  <thead>\n",
       "    <tr style=\"text-align: right;\">\n",
       "      <th></th>\n",
       "      <th>Models</th>\n",
       "      <th>Sensitivity/Recall</th>\n",
       "      <th>Specificity</th>\n",
       "      <th>Precision</th>\n",
       "      <th>Accuracy</th>\n",
       "      <th>F1_Score</th>\n",
       "    </tr>\n",
       "  </thead>\n",
       "  <tbody>\n",
       "    <tr>\n",
       "      <th>0</th>\n",
       "      <td>Logistic Regression</td>\n",
       "      <td>0.618182</td>\n",
       "      <td>0.858586</td>\n",
       "      <td>0.708333</td>\n",
       "      <td>0.772727</td>\n",
       "      <td>0.660194</td>\n",
       "    </tr>\n",
       "    <tr>\n",
       "      <th>1</th>\n",
       "      <td>KNN</td>\n",
       "      <td>0.600000</td>\n",
       "      <td>0.757576</td>\n",
       "      <td>0.578947</td>\n",
       "      <td>0.701299</td>\n",
       "      <td>0.589286</td>\n",
       "    </tr>\n",
       "    <tr>\n",
       "      <th>2</th>\n",
       "      <td>SVM</td>\n",
       "      <td>0.618182</td>\n",
       "      <td>0.858586</td>\n",
       "      <td>0.708333</td>\n",
       "      <td>0.772727</td>\n",
       "      <td>0.660194</td>\n",
       "    </tr>\n",
       "    <tr>\n",
       "      <th>3</th>\n",
       "      <td>Decision Tree</td>\n",
       "      <td>0.563636</td>\n",
       "      <td>0.797980</td>\n",
       "      <td>0.607843</td>\n",
       "      <td>0.714286</td>\n",
       "      <td>0.584906</td>\n",
       "    </tr>\n",
       "    <tr>\n",
       "      <th>4</th>\n",
       "      <td>Random Forest</td>\n",
       "      <td>0.618182</td>\n",
       "      <td>0.848485</td>\n",
       "      <td>0.693878</td>\n",
       "      <td>0.766234</td>\n",
       "      <td>0.653846</td>\n",
       "    </tr>\n",
       "  </tbody>\n",
       "</table>\n",
       "</div>"
      ],
      "text/plain": [
       "                Models  Sensitivity/Recall  Specificity  Precision  Accuracy  \\\n",
       "0  Logistic Regression            0.618182     0.858586   0.708333  0.772727   \n",
       "1                  KNN            0.600000     0.757576   0.578947  0.701299   \n",
       "2                  SVM            0.618182     0.858586   0.708333  0.772727   \n",
       "3        Decision Tree            0.563636     0.797980   0.607843  0.714286   \n",
       "4        Random Forest            0.618182     0.848485   0.693878  0.766234   \n",
       "\n",
       "   F1_Score  \n",
       "0  0.660194  \n",
       "1  0.589286  \n",
       "2  0.660194  \n",
       "3  0.584906  \n",
       "4  0.653846  "
      ]
     },
     "execution_count": 69,
     "metadata": {},
     "output_type": "execute_result"
    }
   ],
   "source": [
    "pd.DataFrame({'Models': Models, 'Sensitivity/Recall':Sensitivity, 'Specificity': Specificity, 'Precision': Precision,\n",
    "              'Accuracy': Accuracy, 'F1_Score': F1_score})"
   ]
  },
  {
   "cell_type": "markdown",
   "id": "8bc97f65",
   "metadata": {},
   "source": [
    ">>## Based on the above output, Logistic Regression is the best model since it has the highest values across all metrics"
   ]
  },
  {
   "cell_type": "code",
   "execution_count": null,
   "id": "61291bec",
   "metadata": {},
   "outputs": [],
   "source": []
  }
 ],
 "metadata": {
  "kernelspec": {
   "display_name": "Python 3 (ipykernel)",
   "language": "python",
   "name": "python3"
  },
  "language_info": {
   "codemirror_mode": {
    "name": "ipython",
    "version": 3
   },
   "file_extension": ".py",
   "mimetype": "text/x-python",
   "name": "python",
   "nbconvert_exporter": "python",
   "pygments_lexer": "ipython3",
   "version": "3.10.9"
  }
 },
 "nbformat": 4,
 "nbformat_minor": 5
}
